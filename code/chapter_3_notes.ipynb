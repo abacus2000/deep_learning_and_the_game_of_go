{
 "cells": [
  {
   "cell_type": "code",
   "execution_count": 4,
   "metadata": {},
   "outputs": [],
   "source": [
    "## uncomment to install dependencies - recommend creating your own venv or using conda's env\n",
    "## tip: start vscode through anaconda-navigator to get full functionality of anaconda\n",
    "# !pip install -r requirements.txt"
   ]
  },
  {
   "cell_type": "markdown",
   "metadata": {},
   "source": [
    "# Chapter 3 Notes \n",
    "\n"
   ]
  },
  {
   "cell_type": "markdown",
   "metadata": {},
   "source": [
    "## `__all__`\n",
    "\n",
    "In Python, `__all__` is a list that defines the public interface of a module. It specifies which names should be imported when a client imports the module using the from module import * syntax. \n",
    "\n",
    "example restricting export of only Player and Point classes:\n",
    "\n",
    "```\n",
    "__all__ = [\n",
    "    'Player',\n",
    "    'Point',\n",
    "]\n",
    "```"
   ]
  },
  {
   "cell_type": "markdown",
   "metadata": {},
   "source": [
    "## `enum`\n",
    "\n",
    "In Python, an enum (short for enumeration) is a set of symbolic names (members) that represent unique, constant values.\n",
    "\n",
    "Example"
   ]
  },
  {
   "cell_type": "code",
   "execution_count": 8,
   "metadata": {},
   "outputs": [],
   "source": [
    "import enum\n",
    "\n",
    "class Color(enum.Enum):\n",
    "    RED = 1\n",
    "    GREEN = 2\n",
    "    BLUE = 3"
   ]
  },
  {
   "cell_type": "code",
   "execution_count": 27,
   "metadata": {},
   "outputs": [
    {
     "name": "stdout",
     "output_type": "stream",
     "text": [
      "Color.RED\n",
      "Color.GREEN\n",
      "Color.BLUE\n"
     ]
    }
   ],
   "source": [
    "# One advantage of using enum is that it provides a way to define symbolic names that are more readable and self-documenting than plain integers. \n",
    "\n",
    "print(Color.RED)    \n",
    "print(Color.GREEN)  \n",
    "print(Color.BLUE)  "
   ]
  },
  {
   "cell_type": "code",
   "execution_count": 10,
   "metadata": {},
   "outputs": [
    {
     "name": "stdout",
     "output_type": "stream",
     "text": [
      "1\n",
      "2\n",
      "3\n"
     ]
    }
   ],
   "source": [
    "print(Color.RED.value)  \n",
    "print(Color.GREEN.value)  \n",
    "print(Color.BLUE.value)   "
   ]
  },
  {
   "cell_type": "markdown",
   "metadata": {},
   "source": [
    "## `namedtuple`\n",
    "\n",
    "One advantage of using namedtuple is that it provides a way to define lightweight, immutable data classes with named fields. This can make your code more readable and self-documenting, since you can access the fields using descriptive names rather than numeric indices."
   ]
  },
  {
   "cell_type": "code",
   "execution_count": 17,
   "metadata": {},
   "outputs": [
    {
     "name": "stdout",
     "output_type": "stream",
     "text": [
      "1\n",
      "2\n",
      "Point\n"
     ]
    }
   ],
   "source": [
    "from collections import namedtuple\n",
    "\n",
    "Point = namedtuple('Point', ['x', 'y'])\n",
    "\n",
    "p = Point(1, 2)\n",
    "\n",
    "print(p.x)  \n",
    "print(p.y) \n",
    "\n",
    "print(type(p).__name__) "
   ]
  },
  {
   "cell_type": "markdown",
   "metadata": {},
   "source": [
    "##  `__deepcopy__ `"
   ]
  },
  {
   "cell_type": "markdown",
   "metadata": {},
   "source": [
    " It is used to create a deep copy of an object, which means that all of the object's attributes are also copied recursively; e.g. the x attribute below "
   ]
  },
  {
   "cell_type": "code",
   "execution_count": 22,
   "metadata": {},
   "outputs": [],
   "source": [
    "\n",
    "import copy\n",
    "\n",
    "class MyClass:\n",
    "    def __init__(self, x):\n",
    "        self.x = x\n",
    "\n",
    "    def __deepcopy__(self, memo):\n",
    "        new_obj = MyClass(copy.deepcopy(self.x, memo))\n",
    "        memo[id(self)] = new_obj\n",
    "        return new_obj\n"
   ]
  },
  {
   "cell_type": "code",
   "execution_count": 28,
   "metadata": {},
   "outputs": [
    {
     "name": "stdout",
     "output_type": "stream",
     "text": [
      "obj1.x [1, 2, 3, 4]\n",
      "obj2.x  [1, 2, 3]\n"
     ]
    }
   ],
   "source": [
    "\n",
    "obj1 = MyClass([1, 2, 3])\n",
    "\n",
    "# create a deep copy of the myclass instance\n",
    "obj2 = copy.deepcopy(obj1)\n",
    "\n",
    "obj1.x.append(4)\n",
    "\n",
    "print('obj1.x', obj1.x)  \n",
    "print('obj2.x ', obj2.x)  "
   ]
  },
  {
   "cell_type": "markdown",
   "metadata": {},
   "source": [
    "## `@property`\n",
    "\n",
    "The @property decorator is used to define a read-only property\n",
    "\n",
    "In this example class GameResults, the read only property is called `total`"
   ]
  },
  {
   "cell_type": "code",
   "execution_count": 30,
   "metadata": {},
   "outputs": [],
   "source": [
    "class GameResults:\n",
    "    def __init__(self, player1_score, player2_score):\n",
    "        self._player1_score = player1_score\n",
    "        self._player2_score = player2_score\n",
    "\n",
    "    @property\n",
    "    def total(self):\n",
    "        return self._player1_score + self._player2_score"
   ]
  },
  {
   "cell_type": "code",
   "execution_count": 31,
   "metadata": {},
   "outputs": [
    {
     "name": "stdout",
     "output_type": "stream",
     "text": [
      "30\n"
     ]
    }
   ],
   "source": [
    "results = GameResults(10, 20)\n",
    "\n",
    "print(results.total)  "
   ]
  },
  {
   "cell_type": "code",
   "execution_count": 32,
   "metadata": {},
   "outputs": [
    {
     "ename": "AttributeError",
     "evalue": "can't set attribute",
     "output_type": "error",
     "traceback": [
      "\u001b[0;31m---------------------------------------------------------------------------\u001b[0m",
      "\u001b[0;31mAttributeError\u001b[0m                            Traceback (most recent call last)",
      "\u001b[1;32m/home/locutus/Desktop/dlgo_fork/deep_learning_and_the_game_of_go/code/chapter_3_breakout.ipynb Cell 17\u001b[0m line \u001b[0;36m1\n\u001b[0;32m----> <a href='vscode-notebook-cell:/home/locutus/Desktop/dlgo_fork/deep_learning_and_the_game_of_go/code/chapter_3_breakout.ipynb#X44sZmlsZQ%3D%3D?line=0'>1</a>\u001b[0m results\u001b[39m.\u001b[39mtotal \u001b[39m=\u001b[39m \u001b[39m10\u001b[39m\n",
      "\u001b[0;31mAttributeError\u001b[0m: can't set attribute"
     ]
    }
   ],
   "source": [
    "# you can't set the total property\n",
    "results.total = 10"
   ]
  },
  {
   "cell_type": "markdown",
   "metadata": {},
   "source": [
    "## `__eq__ `\n",
    "\n",
    "__eq__ is a special method that is used to define the behavior of the == operator for instances of a class. It is used to compare two objects for equality and return a boolean value indicating whether they are equal."
   ]
  },
  {
   "cell_type": "code",
   "execution_count": 33,
   "metadata": {},
   "outputs": [],
   "source": [
    "class MyClass:\n",
    "    def __init__(self, x):\n",
    "        self.x = x\n",
    "\n",
    "    def __eq__(self, other):\n",
    "        if isinstance(other, MyClass):\n",
    "            return self.x == other.x\n",
    "        else:\n",
    "            return False"
   ]
  },
  {
   "cell_type": "code",
   "execution_count": 37,
   "metadata": {},
   "outputs": [
    {
     "name": "stdout",
     "output_type": "stream",
     "text": [
      "True\n"
     ]
    }
   ],
   "source": [
    "#  same value for x\n",
    "obj1 = MyClass(1)\n",
    "obj2 = MyClass(1)\n",
    "\n",
    "print(obj1 == obj2) "
   ]
  },
  {
   "cell_type": "code",
   "execution_count": 38,
   "metadata": {},
   "outputs": [
    {
     "name": "stdout",
     "output_type": "stream",
     "text": [
      "False\n"
     ]
    }
   ],
   "source": [
    "#  different value for x\n",
    "obj1 = MyClass(1)\n",
    "obj2 = MyClass(2)\n",
    "\n",
    "print(obj1 == obj2) "
   ]
  },
  {
   "cell_type": "markdown",
   "metadata": {},
   "source": []
  },
  {
   "cell_type": "markdown",
   "metadata": {},
   "source": [
    "Note: isinstance will not return true for classes which check against their children, but children return positive against their parents \n"
   ]
  },
  {
   "cell_type": "code",
   "execution_count": 41,
   "metadata": {},
   "outputs": [
    {
     "name": "stdout",
     "output_type": "stream",
     "text": [
      "True\n",
      "True\n",
      "False\n",
      "True\n"
     ]
    }
   ],
   "source": [
    "class MyClass:\n",
    "    pass\n",
    "\n",
    "class MySubclass(MyClass):\n",
    "    pass\n",
    "\n",
    "obj1 = MyClass()\n",
    "obj2 = MySubclass()\n",
    "\n",
    "print(isinstance(obj1, MyClass))   \n",
    "print(isinstance(obj2, MyClass))  \n",
    "print(isinstance(obj1, MySubclass))  \n",
    "print(isinstance(obj2, MySubclass)) "
   ]
  },
  {
   "cell_type": "markdown",
   "metadata": {},
   "source": [
    "## `frozensets`\n",
    "\n",
    "Just like set, frozenset, normal operations work the same they are just immutable version of set."
   ]
  },
  {
   "cell_type": "code",
   "execution_count": 76,
   "metadata": {},
   "outputs": [
    {
     "data": {
      "text/plain": [
       "frozenset({1, 2, 4})"
      ]
     },
     "execution_count": 76,
     "metadata": {},
     "output_type": "execute_result"
    }
   ],
   "source": [
    "# union   - note: you can also call these by name like set1.union(set2) if in a var \n",
    "frozenset([1, 2]) | frozenset([2, 4]) "
   ]
  },
  {
   "cell_type": "code",
   "execution_count": 72,
   "metadata": {},
   "outputs": [
    {
     "data": {
      "text/plain": [
       "frozenset({2})"
      ]
     },
     "execution_count": 72,
     "metadata": {},
     "output_type": "execute_result"
    }
   ],
   "source": [
    "# intersection \n",
    "frozenset([1, 2]) & frozenset([2, 4]) "
   ]
  },
  {
   "cell_type": "code",
   "execution_count": 73,
   "metadata": {},
   "outputs": [
    {
     "data": {
      "text/plain": [
       "frozenset({1})"
      ]
     },
     "execution_count": 73,
     "metadata": {},
     "output_type": "execute_result"
    }
   ],
   "source": [
    "# diff (which respect to the first set)\n",
    "\n",
    "frozenset([1, 2]) - frozenset([2, 4]) "
   ]
  },
  {
   "cell_type": "code",
   "execution_count": 74,
   "metadata": {},
   "outputs": [
    {
     "data": {
      "text/plain": [
       "frozenset({1, 4})"
      ]
     },
     "execution_count": 74,
     "metadata": {},
     "output_type": "execute_result"
    }
   ],
   "source": [
    "# symmetric difference \n",
    "\n",
    "frozenset([1, 2]) ^ frozenset([2, 4]) "
   ]
  },
  {
   "cell_type": "markdown",
   "metadata": {},
   "source": [
    "## Zobrist hashing \n",
    "   \n",
    " Assume we have a 3x3 tic-tac-toe board, where each cell can be 'X', 'O', or empty.\n"
   ]
  },
  {
   "cell_type": "code",
   "execution_count": 81,
   "metadata": {},
   "outputs": [],
   "source": [
    "import random\n",
    "\n",
    "zobrist_table = {}\n",
    "for row in range(3):\n",
    "    for col in range(3):\n",
    "        for state in [' ', 'X', 'O']:\n",
    "            zobrist_table[(row, col, state)] = random.randint(1, 1000)\n"
   ]
  },
  {
   "cell_type": "code",
   "execution_count": 98,
   "metadata": {},
   "outputs": [
    {
     "data": {
      "text/plain": [
       "{(0, 0, ' '): 385,\n",
       " (0, 0, 'X'): 476,\n",
       " (0, 0, 'O'): 956,\n",
       " (0, 1, ' '): 278,\n",
       " (0, 1, 'X'): 870,\n",
       " (0, 1, 'O'): 820,\n",
       " (0, 2, ' '): 884,\n",
       " (0, 2, 'X'): 263,\n",
       " (0, 2, 'O'): 740,\n",
       " (1, 0, ' '): 320,\n",
       " (1, 0, 'X'): 390,\n",
       " (1, 0, 'O'): 248,\n",
       " (1, 1, ' '): 708,\n",
       " (1, 1, 'X'): 846,\n",
       " (1, 1, 'O'): 66,\n",
       " (1, 2, ' '): 180,\n",
       " (1, 2, 'X'): 98,\n",
       " (1, 2, 'O'): 107,\n",
       " (2, 0, ' '): 188,\n",
       " (2, 0, 'X'): 870,\n",
       " (2, 0, 'O'): 92,\n",
       " (2, 1, ' '): 818,\n",
       " (2, 1, 'X'): 485,\n",
       " (2, 1, 'O'): 32,\n",
       " (2, 2, ' '): 946,\n",
       " (2, 2, 'X'): 665,\n",
       " (2, 2, 'O'): 809}"
      ]
     },
     "execution_count": 98,
     "metadata": {},
     "output_type": "execute_result"
    }
   ],
   "source": [
    "\n",
    "# here we have initialized a Zobrist table with random \n",
    "# numbers for each state of each cell\n",
    "\n",
    "\"\"\"\n",
    "these random numbers are not the hash values themselves; \n",
    "they are randomly generated integers used to create a unique \n",
    "hash value for a given board state. The idea is that by XORing \n",
    "these random numbers together in a specific way, you can produce \n",
    "a unique (or nearly unique) hash value for each possible board state.\n",
    "\"\"\"\n",
    "zobrist_table"
   ]
  },
  {
   "cell_type": "code",
   "execution_count": 85,
   "metadata": {},
   "outputs": [],
   "source": [
    "# here is a function to calculate the Zobrist hash \n",
    "# for a given board state\n",
    "def calculate_zobrist_hash(board):\n",
    "    zobrist_hash = 0\n",
    "    for row in range(3):\n",
    "        for col in range(3):\n",
    "            zobrist_hash ^= zobrist_table[(row, col, board[row][col])]\n",
    "    return zobrist_hash"
   ]
  },
  {
   "cell_type": "code",
   "execution_count": 88,
   "metadata": {},
   "outputs": [
    {
     "data": {
      "text/plain": [
       "[[' ', ' ', ' '], [' ', ' ', ' '], [' ', ' ', ' ']]"
      ]
     },
     "execution_count": 88,
     "metadata": {},
     "output_type": "execute_result"
    }
   ],
   "source": [
    "# initialize an empty board\n",
    "board = [[' ' for _ in range(3)] for _ in range(3)]\n",
    "board"
   ]
  },
  {
   "cell_type": "code",
   "execution_count": 89,
   "metadata": {},
   "outputs": [
    {
     "data": {
      "text/plain": [
       "239"
      ]
     },
     "execution_count": 89,
     "metadata": {},
     "output_type": "execute_result"
    }
   ],
   "source": [
    "# calculate the Zobrist hash for the empty board\n",
    "initial_hash = calculate_zobrist_hash(board)\n",
    "initial_hash"
   ]
  },
  {
   "cell_type": "code",
   "execution_count": 94,
   "metadata": {},
   "outputs": [
    {
     "data": {
      "text/plain": [
       "[['X', ' ', ' '], [' ', ' ', ' '], [' ', ' ', ' ']]"
      ]
     },
     "execution_count": 94,
     "metadata": {},
     "output_type": "execute_result"
    }
   ],
   "source": [
    "# make a move \n",
    "board[0][0] = 'X'\n",
    "board"
   ]
  },
  {
   "cell_type": "code",
   "execution_count": 101,
   "metadata": {},
   "outputs": [
    {
     "data": {
      "text/plain": [
       "178"
      ]
     },
     "execution_count": 101,
     "metadata": {},
     "output_type": "execute_result"
    }
   ],
   "source": [
    "# update the Zobrist hash for the new board state\n",
    "new_hash = initial_hash ^ zobrist_table[(0, 0, ' ')] ^ zobrist_table[(0, 0, 'X')]\n",
    "new_hash"
   ]
  },
  {
   "cell_type": "markdown",
   "metadata": {},
   "source": [
    "## XOR operations \n",
    "\n",
    "these operations are used to calculate the current game state's unique hash\n"
   ]
  },
  {
   "cell_type": "code",
   "execution_count": 107,
   "metadata": {},
   "outputs": [
    {
     "data": {
      "text/plain": [
       "True"
      ]
     },
     "execution_count": 107,
     "metadata": {},
     "output_type": "execute_result"
    }
   ],
   "source": [
    "\n",
    "# Commutative Property \n",
    "commutative_example = (5 ^ 3) == (3 ^ 5)\n",
    "commutative_example\n"
   ]
  },
  {
   "cell_type": "code",
   "execution_count": 108,
   "metadata": {},
   "outputs": [
    {
     "data": {
      "text/plain": [
       "True"
      ]
     },
     "execution_count": 108,
     "metadata": {},
     "output_type": "execute_result"
    }
   ],
   "source": [
    "# Associative Property  \n",
    "associative_example = (5 ^ (3 ^ 2)) == ((5 ^ 3) ^ 2)\n",
    "associative_example"
   ]
  },
  {
   "cell_type": "code",
   "execution_count": 109,
   "metadata": {},
   "outputs": [
    {
     "data": {
      "text/plain": [
       "True"
      ]
     },
     "execution_count": 109,
     "metadata": {},
     "output_type": "execute_result"
    }
   ],
   "source": [
    "# Self-Inverse Property  \n",
    "self_inverse_example = (7 ^ 7) == 0\n",
    "self_inverse_example\n"
   ]
  },
  {
   "cell_type": "code",
   "execution_count": 111,
   "metadata": {},
   "outputs": [],
   "source": [
    "# these are some other identities, but more exist\n",
    "\n",
    "# Identity Element Example\n",
    "identity_element_example = (5 ^ 0) == 5\n",
    "\n",
    "# Distributive Over OR and AND Example\n",
    "distributive_example = (5 ^ (3 & 2)) == ((5 ^ 3) & (5 ^ 2))\n",
    "\n",
    "\n"
   ]
  },
  {
   "cell_type": "code",
   "execution_count": null,
   "metadata": {},
   "outputs": [],
   "source": []
  }
 ],
 "metadata": {
  "kernelspec": {
   "display_name": "base",
   "language": "python",
   "name": "python3"
  },
  "language_info": {
   "codemirror_mode": {
    "name": "ipython",
    "version": 3
   },
   "file_extension": ".py",
   "mimetype": "text/x-python",
   "name": "python",
   "nbconvert_exporter": "python",
   "pygments_lexer": "ipython3",
   "version": "3.8.18"
  },
  "orig_nbformat": 4
 },
 "nbformat": 4,
 "nbformat_minor": 2
}
